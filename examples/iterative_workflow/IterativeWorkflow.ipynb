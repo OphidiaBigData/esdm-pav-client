{
 "cells": [
  {
   "cell_type": "code",
   "execution_count": 1,
   "metadata": {},
   "outputs": [],
   "source": [
    "cores=\"1\"\n",
    "\n",
    "import sys\n",
    "sys.path.append(\"/path/to/PyOphidia\")\n",
    "sys.path.append(\"/path/to/esdm-pav-client\")"
   ]
  },
  {
   "cell_type": "code",
   "execution_count": null,
   "metadata": {
    "scrolled": true
   },
   "outputs": [],
   "source": [
    "from esdm_pav_client import Workflow, Experiment, Task\n",
    "experiment = Experiment(\n",
    "    name=\"Iterative processing\",\n",
    "    author=\"CMCC\",\n",
    "    abstract=\"Perform an iterative computation over an ESDM container\",\n",
    "    exec_mode=\"sync\",\n",
    "    host_partition=\"cluster\",\n",
    "    ncores=cores)\n",
    "t1 = experiment.newTask(name=\"Loop\",\n",
    "                type=\"control\",\n",
    "                operator='for',\n",
    "                arguments={'key': 'index',\n",
    "                           'counter': '1:10'})\n",
    "t2 = experiment.newTask(name=\"Set\",\n",
    "                type=\"control\",\n",
    "                operator='set',\n",
    "                arguments={'key': 'start|stop|previous',\n",
    "                           'value': 'EVAL((&index-1)*10)|EVAL(&index*10-1)|@CUBE'},\n",
    "                dependencies={t1:'cube'})\n",
    "t3 = experiment.newTask(name=\"Wait\",\n",
    "                type=\"control\",\n",
    "                operator='wait',\n",
    "                arguments={'type': 'file',\n",
    "                           'output': 'esdm://etas.nc',\n",
    "                           'measure': 'tas',\n",
    "                           'subset_dims': 'time',\n",
    "                           'subset_filter': '@stop',\n",
    "                           'time_filter': 'no',\n",
    "                           'timeout': '10'},\n",
    "                dependencies={t2:''})\n",
    "t4 = experiment.newTask(name=\"If the first loop\",\n",
    "                type=\"control\",\n",
    "                operator='if',\n",
    "                arguments={'condition': '&index=1'},\n",
    "                dependencies={t3:'input'})\n",
    "t5 = experiment.newTask(name=\"Import operation\",\n",
    "                type=\"ophidia\",\n",
    "                operator='oph_importesdm2',\n",
    "                arguments={'measure': 'tas',\n",
    "                           'subset_dims': 'time',\n",
    "                           'subset_filter': '@start_1:@stop',\n",
    "                           'time_filter': 'no',\n",
    "                           'operation': 'stat',\n",
    "                           'args': '11'},\n",
    "                dependencies={t4:'input'})\n",
    "t6 = experiment.newTask(name=\"Else (next loops)\",\n",
    "                type=\"control\",\n",
    "                operator='else',\n",
    "                arguments={},\n",
    "                dependencies={t4:'input'})\n",
    "t7 = experiment.newTask(name=\"Concat operation\",\n",
    "                type=\"ophidia\",\n",
    "                operator='oph_concatesdm2',\n",
    "                arguments={'measure': 'tas',\n",
    "                           'subset_dims': 'time',\n",
    "                           'subset_filter': '@start_1:@stop',\n",
    "                           'operation': 'stat',\n",
    "                           'args': '11',\n",
    "                           'cube': '@previous'},\n",
    "                dependencies={t6:'input'})\n",
    "t8 = experiment.newTask(name=\"End if\",\n",
    "                type=\"control\",\n",
    "                operator='endif',\n",
    "                arguments={},\n",
    "                dependencies={t5:'cube', t7:'cube'})\n",
    "t9 = experiment.newTask(name=\"End loop\",\n",
    "                type=\"control\",\n",
    "                operator='endfor', \n",
    "                arguments={},\n",
    "                dependencies={t8:'cube'})\n",
    "t10 = experiment.newTask(name=\"Export\",\n",
    "                type=\"ophidia\",\n",
    "                operator=\"oph_exportesdm2\",\n",
    "                arguments={'output': 'esdm://output.nc',\n",
    "                           'force': 'yes'},\n",
    "                dependencies={t9:'cube'})"
   ]
  },
  {
   "cell_type": "code",
   "execution_count": null,
   "metadata": {},
   "outputs": [],
   "source": [
    "workflow = Workflow(experiment)\n",
    "workflow.submit()\n",
    "workflow.monitor(frequency=1, iterative=True, visual_mode=True)"
   ]
  },
  {
   "cell_type": "code",
   "execution_count": null,
   "metadata": {},
   "outputs": [],
   "source": []
  }
 ],
 "metadata": {
  "kernelspec": {
   "display_name": "Python 3",
   "language": "python",
   "name": "python3"
  },
  "language_info": {
   "codemirror_mode": {
    "name": "ipython",
    "version": 3
   },
   "file_extension": ".py",
   "mimetype": "text/x-python",
   "name": "python",
   "nbconvert_exporter": "python",
   "pygments_lexer": "ipython3",
   "version": "3.7.6"
  }
 },
 "nbformat": 4,
 "nbformat_minor": 4
}
